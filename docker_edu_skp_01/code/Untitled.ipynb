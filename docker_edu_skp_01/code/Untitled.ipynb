{
 "cells": [
  {
   "cell_type": "code",
   "execution_count": 5,
   "metadata": {
    "collapsed": false
   },
   "outputs": [
    {
     "name": "stdout",
     "output_type": "stream",
     "text": [
      "#### tf_logic_add a+b start ####\n",
      "tf_logic_add a+b result --> 9\n",
      "#### tf_logic_train start ####\n",
      "tf_logic_train result --> 10000\n",
      "#### tf_logic_train reduce_sum start ####\n",
      "tf_logic_train_reduce_sum result -> 49995000\n"
     ]
    }
   ],
   "source": [
    "import tensorflow as tf\n",
    "import logging\n",
    "import numpy as np\n",
    "class TfExamBackendService():\n",
    "    def tf_logic(self, a, b):\n",
    "        print(\"#### tf_logic_add a+b start ####\")\n",
    "\n",
    "        a = tf.constant(a)\n",
    "        b = tf.constant(b)\n",
    "        c = tf.add(a,b)\n",
    "\n",
    "        sess = tf.Session()\n",
    "        result = sess.run(c)\n",
    "        sess.close()\n",
    "        print(\"tf_logic_add a+b result --> {0}\".format(result))\n",
    "        return result\n",
    "    def tf_logic_train(self, count):\n",
    "        print(\"#### tf_logic_train start ####\")\n",
    "        a = tf.Variable(0, name='counter')\n",
    "        c = tf.assign_add(a, 1, name='increment')\n",
    "            \n",
    "        with tf.Session() as sess:\n",
    "             sess.run(tf.global_variables_initializer())\n",
    "             for i in range(count):\n",
    "                 oper = sess.run(c)\n",
    "             result = oper\n",
    "        print(\"tf_logic_train result --> {0}\".format(result))\n",
    "        return result \n",
    "    def tf_logic_train_reduce_sum(self, count):\n",
    "        print(\"#### tf_logic_train reduce_sum start ####\")\n",
    "        x = np.array([i for i in range(count)])\n",
    "        c = tf.reduce_sum(x)    \n",
    "        with tf.Session() as sess:\n",
    "             result = sess.run(c)\n",
    "        print(\"tf_logic_train_reduce_sum result -> {0}\".format(result))\n",
    "        return result \n",
    "\n",
    "\n",
    "if __name__ == \"__main__\":\n",
    "    tf_b_serv = TfExamBackendService()\n",
    "    tf_b_serv.tf_logic(3,6)\n",
    "    tf_b_serv.tf_logic_train(10000)\n",
    "    tf_b_serv.tf_logic_train_reduce_sum(10000)\n",
    "\n"
   ]
  },
  {
   "cell_type": "code",
   "execution_count": null,
   "metadata": {
    "collapsed": true
   },
   "outputs": [],
   "source": []
  }
 ],
 "metadata": {
  "anaconda-cloud": {},
  "kernelspec": {
   "display_name": "Python [conda root]",
   "language": "python",
   "name": "conda-root-py"
  },
  "language_info": {
   "codemirror_mode": {
    "name": "ipython",
    "version": 3
   },
   "file_extension": ".py",
   "mimetype": "text/x-python",
   "name": "python",
   "nbconvert_exporter": "python",
   "pygments_lexer": "ipython3",
   "version": "3.5.2"
  }
 },
 "nbformat": 4,
 "nbformat_minor": 1
}
